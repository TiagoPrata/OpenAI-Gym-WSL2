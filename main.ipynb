{
 "cells": [
  {
   "cell_type": "code",
   "execution_count": 25,
   "metadata": {},
   "outputs": [],
   "source": [
    "import gym\n",
    "import os\n",
    "import subprocess"
   ]
  },
  {
   "cell_type": "code",
   "execution_count": 26,
   "metadata": {},
   "outputs": [
    {
     "name": "stdout",
     "output_type": "stream",
     "text": [
      "172.27.64.1\n"
     ]
    }
   ],
   "source": [
    "# reading Windows IP from WSL2\n",
    "# This is needed to visualize pygame started in WSL2 on Windows\n",
    "\n",
    "bashCommand = \"ip route list default\"\n",
    "process = subprocess.Popen(bashCommand.split(), stdout=subprocess.PIPE)\n",
    "output, error = process.communicate()\n",
    "host_ip_wsl2_network = output.decode(\"utf-8\").split()[2]\n",
    "print(host_ip_wsl2_network)\n",
    "\n",
    "# Setting WSL2 needed Environment Variables\n",
    "# (https://stackoverflow.com/questions/61110603/how-to-set-up-working-x11-forwarding-on-wsl2)\n",
    "\n",
    "os.environ[\"DISPLAY\"] = ''.join([host_ip_wsl2_network, ':0'])\n",
    "os.environ[\"LIBGL_ALWAYS_INDIRECT\"] = \"1\"\n",
    "\n",
    "#! Important: On Windows start \"C:\\Program Files\\VcXsrv\\vcxsrv.exe -ac\""
   ]
  },
  {
   "cell_type": "code",
   "execution_count": 27,
   "metadata": {},
   "outputs": [],
   "source": [
    "env_name = \"CartPole-v1\"\n",
    "env = gym.make(env_name, render_mode = \"human\")"
   ]
  },
  {
   "cell_type": "code",
   "execution_count": 28,
   "metadata": {},
   "outputs": [
    {
     "data": {
      "text/plain": [
       "(array([-0.03369266, -0.01110773, -0.03482699,  0.03237138], dtype=float32),\n",
       " {})"
      ]
     },
     "execution_count": 28,
     "metadata": {},
     "output_type": "execute_result"
    }
   ],
   "source": [
    "env.reset()"
   ]
  },
  {
   "cell_type": "code",
   "execution_count": 29,
   "metadata": {},
   "outputs": [],
   "source": [
    "env.render()"
   ]
  },
  {
   "cell_type": "code",
   "execution_count": 30,
   "metadata": {},
   "outputs": [
    {
     "name": "stderr",
     "output_type": "stream",
     "text": [
      "/home/brtipra/.local/share/virtualenvs/Python-OpenAI-Gym--YphVD7F/lib/python3.9/site-packages/gym/envs/classic_control/cartpole.py:177: UserWarning: \u001b[33mWARN: You are calling 'step()' even though this environment has already returned terminated = True. You should always call 'reset()' once you receive 'terminated = True' -- any further steps are undefined behavior.\u001b[0m\n",
      "  logger.warn(\n"
     ]
    }
   ],
   "source": [
    "for _ in range(200):\n",
    "    action = env.action_space.sample()\n",
    "    env.step(action)\n",
    "    env.render()\n",
    "\n",
    "env.close()"
   ]
  }
 ],
 "metadata": {
  "kernelspec": {
   "display_name": "Python 3.9.13 ('Python-OpenAI-Gym--YphVD7F')",
   "language": "python",
   "name": "python3"
  },
  "language_info": {
   "codemirror_mode": {
    "name": "ipython",
    "version": 3
   },
   "file_extension": ".py",
   "mimetype": "text/x-python",
   "name": "python",
   "nbconvert_exporter": "python",
   "pygments_lexer": "ipython3",
   "version": "3.9.13"
  },
  "orig_nbformat": 4,
  "vscode": {
   "interpreter": {
    "hash": "7d1860a28084299519daa941cf44cb3702a7d95edab2669bf9e0d93c5501e666"
   }
  }
 },
 "nbformat": 4,
 "nbformat_minor": 2
}
